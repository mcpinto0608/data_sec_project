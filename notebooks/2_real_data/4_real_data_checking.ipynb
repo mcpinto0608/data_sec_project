{
 "cells": [
  {
   "cell_type": "markdown",
   "id": "19d0893f-279b-477f-a2b4-4f7834201172",
   "metadata": {},
   "source": [
    "## Evaluation of Unsupervised Model on Real Benign and Attack Traffic\n",
    "\n",
    "This notebook evaluates the aggressively tuned Isolation Forest model on real-world traffic. It begins by loading the model, scaler, and threshold information. Benign-only files are used to assess the false positive rate, followed by labeled benign and attack samples to compute classification metrics and visualize the confusion matrix. Despite threshold tuning, the model shows excessive sensitivity, leading to a strategic shift away from unsupervised methods toward supervised learning.\n"
   ]
  },
  {
   "cell_type": "code",
   "execution_count": 9,
   "id": "98e96b5b-73fd-4949-84d3-5eb0ee9db54f",
   "metadata": {},
   "outputs": [],
   "source": [
    "import pandas as pd\n",
    "import numpy as np\n",
    "import os\n",
    "import joblib\n",
    "from sklearn.metrics import precision_score, recall_score, f1_score, confusion_matrix, accuracy_score, classification_report\n",
    "import matplotlib.pyplot as plt\n",
    "import seaborn as sns\n",
    "import matplotlib.pyplot as plt"
   ]
  },
  {
   "cell_type": "markdown",
   "id": "9650ca8e-1d31-4f73-aa4e-98a8708daa0a",
   "metadata": {},
   "source": [
    "## 1. Model & Feature Setup\n",
    "\n",
    "This section defines all paths and loads the necessary components to perform inference on new data. It loads the previously saved Isolation Forest model, the corresponding scaler, and the threshold metadata. It also loads a reference dataset to extract and enforce the expected feature list for consistency in evaluation."
   ]
  },
  {
   "cell_type": "code",
   "execution_count": 10,
   "id": "c31d2ba5-b12f-472b-9f71-56b823fc991b",
   "metadata": {},
   "outputs": [],
   "source": [
    "model_path = '../../models/3_aggressive_tuned/iforest_aggressive.joblib'\n",
    "scaler_path = '../../models/1_first_model/scaler.joblib'\n",
    "threshold_path = '../../models/3_aggressive_tuned/threshold_info.joblib'\n",
    "benign_folder = '../../real_data/benign' \n",
    "attack_folder = '../../real_data/attack'\n",
    "reference_csv = '../../data/cleaned_cic.csv'  # Used to infer expected features"
   ]
  },
  {
   "cell_type": "code",
   "execution_count": 11,
   "id": "7675f23a-7741-407f-bcfb-1fe0b10f0d65",
   "metadata": {},
   "outputs": [
    {
     "name": "stdout",
     "output_type": "stream",
     "text": [
      "Loading model, scaler, and threshold...\n",
      "Threshold loaded: {'threshold': 0.10843373493975904, 'params': {'bootstrap': False, 'contamination': 0.01, 'max_features': 1.0, 'max_samples': 0.8, 'n_estimators': 100, 'n_jobs': None, 'random_state': 42, 'verbose': 0, 'warm_start': False}, 'recall_attack': 0.8246681376177779, 'recall_benign': 0.7060546290262931, 'fpr': 0.29394537097370693, 'score': 0.6153613833220354}\n",
      "Loading reference feature list from: ../../data/cleaned_cic.csv\n",
      "Loaded 77 numeric features\n"
     ]
    }
   ],
   "source": [
    "print(\"Loading model, scaler, and threshold...\")\n",
    "model = joblib.load(model_path)\n",
    "scaler = joblib.load(scaler_path)\n",
    "threshold = joblib.load(threshold_path)\n",
    "print(f\"Threshold loaded: {threshold}\")\n",
    "\n",
    "print(f\"Loading reference feature list from: {reference_csv}\")\n",
    "ref_df = pd.read_csv(reference_csv)\n",
    "expected_features = ref_df.select_dtypes(include=[np.number]).drop(columns=['attack']).columns.tolist()\n",
    "print(f\"Loaded {len(expected_features)} numeric features\")\n"
   ]
  },
  {
   "cell_type": "markdown",
   "id": "2797153f-e55c-4268-9b05-a7e7b8aec8be",
   "metadata": {},
   "source": [
    "## 2. Benign Evaluation and False Positive Count\n",
    "\n",
    "This block tests the tuned model on all benign-only CSVs. Each file is checked for feature conformity, scaled, and passed through the model. Predictions are made using the loaded threshold. For each file, the number of false positives (benign samples incorrectly flagged as attacks) is counted and accumulated. This helps quantify how noisy or sensitive the model is when exposed to strictly benign traffic."
   ]
  },
  {
   "cell_type": "code",
   "execution_count": 12,
   "id": "bba2d6eb-9305-4d57-be20-5b2cb3a64917",
   "metadata": {},
   "outputs": [
    {
     "name": "stdout",
     "output_type": "stream",
     "text": [
      "\n",
      "=== Evaluation on synthetic_benign_1.csv ===\n",
      "Total Samples: 223222\n",
      "False Positives (Benign flagged as attack): 223222\n",
      "True Negatives (Correctly ignored): 0\n",
      "Recall (Benign): 0.0000\n",
      "False Positive Rate: 1.0000\n"
     ]
    }
   ],
   "source": [
    "# Ensure threshold is a float in case it's a dictionary\n",
    "if isinstance(threshold, dict):\n",
    "    threshold = threshold.get(\"best_threshold\", list(threshold.values())[0])\n",
    "\n",
    "# Initialize counters\n",
    "false_positives_total = 0\n",
    "benign_samples_total = 0\n",
    "\n",
    "# File to test\n",
    "filename = 'synthetic_benign_1.csv'\n",
    "path = os.path.join(benign_folder, filename)\n",
    "\n",
    "# Load and prepare\n",
    "df = pd.read_csv(path)\n",
    "df_numeric = df.select_dtypes(include=[np.number])\n",
    "\n",
    "if 'attack' in df_numeric.columns:\n",
    "    df_numeric = df_numeric.drop(columns=['attack'])\n",
    "\n",
    "# Check for feature mismatch\n",
    "if not all(f in df_numeric.columns for f in expected_features):\n",
    "    print(f\"Skipping {filename}: missing required features.\")\n",
    "else:\n",
    "    df_numeric = df_numeric[expected_features]\n",
    "\n",
    "    # Scale and predict\n",
    "    X_scaled = scaler.transform(df_numeric)\n",
    "    scores = model.decision_function(X_scaled)\n",
    "    preds = (scores < threshold).astype(int)  # 1 = predicted attack\n",
    "\n",
    "    # Metrics for benign-only data\n",
    "    false_positives = np.sum(preds == 1)\n",
    "    true_negatives = np.sum(preds == 0)\n",
    "    total = len(preds)\n",
    "    recall_benign = true_negatives / total if total else 0\n",
    "    fpr = false_positives / (false_positives + true_negatives) if (false_positives + true_negatives) else 0\n",
    "\n",
    "    # Print detailed metrics\n",
    "    print(f\"\\n=== Evaluation on {filename} ===\")\n",
    "    print(f\"Total Samples: {total}\")\n",
    "    print(f\"False Positives (Benign flagged as attack): {false_positives}\")\n",
    "    print(f\"True Negatives (Correctly ignored): {true_negatives}\")\n",
    "    print(f\"Recall (Benign): {recall_benign:.4f}\")\n",
    "    print(f\"False Positive Rate: {fpr:.4f}\")\n"
   ]
  },
  {
   "cell_type": "markdown",
   "id": "a0dd3711-ae4c-4cc4-ab4a-b6c5b1dceb3c",
   "metadata": {},
   "source": [
    "## 3. Score Distribution Visualization\n",
    "\n",
    "A histogram is used to visualize the distribution of anomaly scores on benign-only data, with the selected threshold overlaid. This plot helps confirm whether the decision boundary effectively isolates outliers from the benign majority, and whether the threshold is too aggressive or too loose."
   ]
  },
  {
   "cell_type": "code",
   "execution_count": 13,
   "id": "f7fb7b2d-4fa5-4a9f-9a05-ee89c635baac",
   "metadata": {},
   "outputs": [
    {
     "data": {
      "image/png": "[encoded data removed]",
      "text/plain": [
       "<Figure size 640x480 with 1 Axes>"
      ]
     },
     "metadata": {},
     "output_type": "display_data"
    }
   ],
   "source": [
    "scores = model.decision_function(X_scaled)  # Get anomaly scores for each sample\n",
    "\n",
    "plt.hist(scores, bins=100)\n",
    "plt.axvline(threshold, color='red', linestyle='--', label='Threshold')\n",
    "plt.title(\"Anomaly Score Distribution (Benign Only)\")\n",
    "plt.xlabel(\"Score\")\n",
    "plt.ylabel(\"Count\")\n",
    "plt.legend()\n",
    "plt.show()"
   ]
  },
  {
   "cell_type": "markdown",
   "id": "fbcd02e5-2ebf-493c-a6d1-895350b3dcbe",
   "metadata": {},
   "source": [
    "## 4. Mixed Data Evaluation (Benign + Attack)\n",
    "\n",
    "This final evaluation step merges all labeled benign and attack CSVs for a realistic test scenario. After combining and scaling the data, predictions are made and performance metrics (precision, recall, F1-score) are calculated. A confusion matrix heatmap provides a clear visual of how the model distinguishes between classes under real-world conditions."
   ]
  },
  {
   "cell_type": "code",
   "execution_count": 14,
   "id": "597c04d3-3a9a-4b18-8a37-1b5360652097",
   "metadata": {},
   "outputs": [
    {
     "name": "stdout",
     "output_type": "stream",
     "text": [
      "\n",
      "Loading synthetic benign and attack samples...\n"
     ]
    }
   ],
   "source": [
    "# Load and combine only the selected benign and attack files\n",
    "print(\"\\nLoading synthetic benign and attack samples...\")\n",
    "\n",
    "# Load specific benign file\n",
    "benign_df = pd.read_csv(os.path.join(benign_folder, \"synthetic_benign_1.csv\"))\n",
    "\n",
    "# Load specific attack file\n",
    "attack_df = pd.read_csv(os.path.join(attack_folder, \"synthetic_attack_1.csv\"))\n",
    "\n",
    "# Combine and filter\n",
    "combined_df = pd.concat([benign_df, attack_df], ignore_index=True)\n",
    "X = combined_df[expected_features]\n",
    "y_true = combined_df['attack'].astype(int)\n",
    "\n",
    "# Scale and predict\n",
    "X_scaled = scaler.transform(X)\n",
    "y_pred = (model.decision_function(X_scaled) < threshold).astype(int)\n"
   ]
  },
  {
   "cell_type": "code",
   "execution_count": 15,
   "id": "9cf09da6-1abc-4f26-96f2-c8c66a47ed2d",
   "metadata": {},
   "outputs": [
    {
     "name": "stdout",
     "output_type": "stream",
     "text": [
      "=== Evaluation Results ===\n",
      "True Negatives (Benign correctly identified): 0\n",
      "False Positives (Benign predicted as attack): 223222\n",
      "False Negatives (Missed attacks): 55160\n",
      "True Positives (Attacks detected): 500145\n",
      "Total Samples: 778527\n",
      "\n",
      "Overall Accuracy       : 0.6424\n",
      "Precision              : 0.6914\n",
      "Recall (Attack)        : 0.9007\n",
      "Recall (Benign)        : 0.0000\n",
      "False Positive Rate    : 1.0000\n",
      "F1-Score               : 0.7823\n",
      "\n",
      "=== Classification Report ===\n",
      "              precision    recall  f1-score   support\n",
      "\n",
      "      Benign       0.00      0.00      0.00    223222\n",
      "      Attack       0.69      0.90      0.78    555305\n",
      "\n",
      "    accuracy                           0.64    778527\n",
      "   macro avg       0.35      0.45      0.39    778527\n",
      "weighted avg       0.49      0.64      0.56    778527\n",
      "\n"
     ]
    },
    {
     "data": {
      "image/png": "[encoded data removed]",
      "text/plain": [
       "<Figure size 600x500 with 2 Axes>"
      ]
     },
     "metadata": {},
     "output_type": "display_data"
    }
   ],
   "source": [
    "# Compute basic metrics\n",
    "precision = precision_score(y_true, y_pred)\n",
    "recall = recall_score(y_true, y_pred)\n",
    "f1 = f1_score(y_true, y_pred)\n",
    "accuracy = accuracy_score(y_true, y_pred)\n",
    "cm = confusion_matrix(y_true, y_pred)\n",
    "tn, fp, fn, tp = cm.ravel()\n",
    "\n",
    "# Compute class-wise recalls\n",
    "recall_benign = tn / (tn + fp) if (tn + fp) > 0 else 0\n",
    "recall_attack = tp / (tp + fn) if (tp + fn) > 0 else 0\n",
    "fpr = fp / (fp + tn) if (fp + tn) > 0 else 0\n",
    "\n",
    "# Print all key metrics\n",
    "print(\"=== Evaluation Results ===\")\n",
    "print(f\"True Negatives (Benign correctly identified): {tn}\")\n",
    "print(f\"False Positives (Benign predicted as attack): {fp}\")\n",
    "print(f\"False Negatives (Missed attacks): {fn}\")\n",
    "print(f\"True Positives (Attacks detected): {tp}\")\n",
    "print(f\"Total Samples: {len(y_true)}\")\n",
    "print()\n",
    "print(f\"Overall Accuracy       : {accuracy:.4f}\")\n",
    "print(f\"Precision              : {precision:.4f}\")\n",
    "print(f\"Recall (Attack)        : {recall_attack:.4f}\")\n",
    "print(f\"Recall (Benign)        : {recall_benign:.4f}\")\n",
    "print(f\"False Positive Rate    : {fpr:.4f}\")\n",
    "print(f\"F1-Score               : {f1:.4f}\")\n",
    "print()\n",
    "print(\"=== Classification Report ===\")\n",
    "print(classification_report(y_true, y_pred, target_names=[\"Benign\", \"Attack\"]))\n",
    "\n",
    "# Confusion matrix heatmap\n",
    "plt.figure(figsize=(6, 5))\n",
    "sns.heatmap(cm, annot=True, fmt='d', cmap='Blues',\n",
    "            xticklabels=['Benign', 'Attack'],\n",
    "            yticklabels=['Benign', 'Attack'])\n",
    "plt.xlabel(\"Predicted Label\")\n",
    "plt.ylabel(\"True Label\")\n",
    "plt.title(\"Confusion Matrix\")\n",
    "plt.tight_layout()\n",
    "plt.show()\n"
   ]
  },
  {
   "cell_type": "markdown",
   "id": "59d2a4d2-a4d4-4755-962d-c901b74c83c3",
   "metadata": {},
   "source": [
    "## Model Rejection and Strategic Shift\n",
    "\n",
    "The results obtained from the aggressively tuned Isolation Forest model demonstrate excessive sensitivity, particularly evident in the high false positive rate observed on benign-only traffic. Despite threshold optimization and multi-objective scoring strategies, the model consistently misclassifies benign flows, indicating a structural limitation in its unsupervised approach when applied to real, diverse traffic.\n",
    "\n",
    "Given the project's objective—to develop an intrusion detection system that maintains high recall for attacks while keeping false positives low enough for real deployment—this behavior is unacceptable. Further tuning of the Isolation Forest has proven insufficient to meet these goals.\n",
    "\n",
    "As a result, the project will shift focus to a supervised Random Forest classifier, trained on labeled real and synthetic traffic."
   ]
  },
  {
   "cell_type": "code",
   "execution_count": null,
   "id": "6843ae81-0bd3-4cb6-9c46-62d9d9cbddad",
   "metadata": {},
   "outputs": [],
   "source": []
  }
 ],
 "metadata": {
  "kernelspec": {
   "display_name": "Python 3 (ipykernel)",
   "language": "python",
   "name": "python3"
  },
  "language_info": {
   "codemirror_mode": {
    "name": "ipython",
    "version": 3
   },
   "file_extension": ".py",
   "mimetype": "text/x-python",
   "name": "python",
   "nbconvert_exporter": "python",
   "pygments_lexer": "ipython3",
   "version": "3.13.2"
  }
 },
 "nbformat": 4,
 "nbformat_minor": 5
}
