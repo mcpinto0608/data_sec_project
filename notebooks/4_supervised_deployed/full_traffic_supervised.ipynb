{
 "cells": [
  {
   "cell_type": "markdown",
   "id": "f615fb93-7e87-4e24-840c-55ea89b2f9d6",
   "metadata": {},
   "source": [
    "## Notebook Overview\n",
    "\n",
    "This notebook evaluates a supervised Random Forest model on realistic traffic. It follows these steps:\n",
    "\n",
    "    Loads the trained model and real benign/attack CSVs\n",
    "\n",
    "    Enforces CIC-style feature schema\n",
    "\n",
    "    Applies the model to the real data\n",
    "\n",
    "    Computes precision, recall, F1-score, accuracy, ROC AUC\n",
    "\n",
    "    Displays a confusion matrix and full report\n",
    "\n",
    "    Verifies the model’s effectiveness on previously unseen traffic"
   ]
  },
  {
   "cell_type": "markdown",
   "id": "2a908c9e-21a7-4356-ae91-375ae59e681f",
   "metadata": {},
   "source": [
    "## 1. Load Model and Real Traffic\n",
    "\n",
    "Loads the saved .joblib model and reads all .csv files from the benign and attack directories. Each file is labeled and merged into one DataFrame.\n",
    "\n",
    "Extracts the numeric feature list from the CIC-IDS reference CSV and applies it to the test data. Also fills missing values to ensure consistency."
   ]
  },
  {
   "cell_type": "code",
   "execution_count": 4,
   "id": "98d17f54-e0fc-41de-a873-be8a77a6042d",
   "metadata": {},
   "outputs": [],
   "source": [
    "import pandas as pd\n",
    "import numpy as np\n",
    "import os\n",
    "import joblib\n",
    "from sklearn.metrics import classification_report, confusion_matrix, accuracy_score, precision_score, recall_score, f1_score, roc_auc_score\n",
    "import matplotlib.pyplot as plt\n",
    "import seaborn as sns"
   ]
  },
  {
   "cell_type": "code",
   "execution_count": 5,
   "id": "d9902f26-71ec-4291-8ca3-e54b8bfe29dd",
   "metadata": {},
   "outputs": [
    {
     "name": "stdout",
     "output_type": "stream",
     "text": [
      "Loading trained Random Forest model...\n",
      "Loading real benign and attack traffic data...\n",
      "Combined data loaded: 2032083 samples, 78 features\n"
     ]
    }
   ],
   "source": [
    "# === CONFIGURATION ===\n",
    "model_path = '../../models/5_supervised_real_traffic_test/model.joblib'\n",
    "benign_folder = '../../real_data/benign'  # Location of benign data\n",
    "attack_folder = '../../real_data/attack'  # Location of attack data\n",
    "\n",
    "# === Helper function to load data ===\n",
    "def load_labeled_csvs(folder, label):\n",
    "    dfs = []\n",
    "    for filename in os.listdir(folder):\n",
    "        if filename.endswith('.csv'):\n",
    "            df = pd.read_csv(os.path.join(folder, filename))\n",
    "            df['attack'] = label  # Label the data as benign (0) or attack (1)\n",
    "            dfs.append(df)\n",
    "    return pd.concat(dfs, ignore_index=True) if dfs else pd.DataFrame()\n",
    "\n",
    "# === Load the trained model ===\n",
    "print(\"Loading trained Random Forest model...\")\n",
    "rf = joblib.load(model_path)\n",
    "\n",
    "# === Load and combine real traffic data ===\n",
    "print(\"Loading real benign and attack traffic data...\")\n",
    "\n",
    "# Load benign and attack data\n",
    "benign_df = load_labeled_csvs(benign_folder, 0)\n",
    "attack_df = load_labeled_csvs(attack_folder, 1)\n",
    "\n",
    "# Combine the data\n",
    "combined_df = pd.concat([benign_df, attack_df], ignore_index=True)\n",
    "\n",
    "print(f\"Combined data loaded: {combined_df.shape[0]} samples, {combined_df.shape[1]} features\")\n"
   ]
  },
  {
   "cell_type": "code",
   "execution_count": 6,
   "id": "c8bae93e-9f20-4f88-8f41-ca8baf0d0804",
   "metadata": {},
   "outputs": [
    {
     "name": "stdout",
     "output_type": "stream",
     "text": [
      "Checking for missing values in the data...\n",
      "Missing values:\n",
      "flow duration                  0\n",
      "total fwd packets              0\n",
      "total backward packets         0\n",
      "total length of fwd packets    0\n",
      "total length of bwd packets    0\n",
      "                              ..\n",
      "active min                     0\n",
      "idle mean                      0\n",
      "idle std                       0\n",
      "idle max                       0\n",
      "idle min                       0\n",
      "Length: 77, dtype: int64\n",
      "Missing values handled. Data shape: 2032083 samples, 77 features\n"
     ]
    }
   ],
   "source": [
    "# === Load expected features from reference dataset ===\n",
    "reference_csv = '../../data/cleaned_cic.csv'  # The original dataset to get expected features\n",
    "ref_df = pd.read_csv(reference_csv)\n",
    "expected_features = ref_df.select_dtypes(include=[np.number]).drop(columns=['attack']).columns.tolist()\n",
    "\n",
    "# === Prepare the data for prediction ===\n",
    "X = combined_df[expected_features]\n",
    "y_true = combined_df['attack'].astype(int)\n",
    "\n",
    "# === Handle missing values (if any) ===\n",
    "print(f\"Checking for missing values in the data...\")\n",
    "print(f\"Missing values:\\n{X.isnull().sum()}\")\n",
    "\n",
    "X = X.fillna(0)  # Replace missing values with 0 (or use other strategies)\n",
    "\n",
    "print(f\"Missing values handled. Data shape: {X.shape[0]} samples, {X.shape[1]} features\")\n"
   ]
  },
  {
   "cell_type": "markdown",
   "id": "c4949952-16ce-4415-9123-6a3452482030",
   "metadata": {},
   "source": [
    "## 4. Predict on Real Traffic\n",
    "\n",
    "Runs predictions on the real samples using the trained model. Computes and displays classification metrics, ROC AUC, and a confusion matrix."
   ]
  },
  {
   "cell_type": "code",
   "execution_count": 7,
   "id": "12a97600-0fcc-4d49-899b-a4f04e01111e",
   "metadata": {},
   "outputs": [
    {
     "name": "stdout",
     "output_type": "stream",
     "text": [
      "Making predictions on real traffic...\n",
      "Detailed Classification Report:\n",
      "Accuracy: 0.8820\n",
      "Precision: 0.8165\n",
      "Recall: 1.0000\n",
      "F1-Score: 0.8990\n",
      "ROC AUC Score: 0.9335\n"
     ]
    },
    {
     "data": {
      "image/png": "[encoded data removed]",
      "text/plain": [
       "<Figure size 600x500 with 2 Axes>"
      ]
     },
     "metadata": {},
     "output_type": "display_data"
    },
    {
     "name": "stdout",
     "output_type": "stream",
     "text": [
      "Classification Report on Real Traffic:\n",
      "              precision    recall  f1-score   support\n",
      "\n",
      "      Benign       1.00      0.75      0.86    964995\n",
      "      Attack       0.82      1.00      0.90   1067088\n",
      "\n",
      "    accuracy                           0.88   2032083\n",
      "   macro avg       0.91      0.88      0.88   2032083\n",
      "weighted avg       0.90      0.88      0.88   2032083\n",
      "\n",
      "Predictions made and evaluation complete.\n"
     ]
    }
   ],
   "source": [
    "# === Predict on the real traffic data ===\n",
    "print(\"Making predictions on real traffic...\")\n",
    "y_pred = rf.predict(X)\n",
    "y_prob = rf.predict_proba(X)[:, 1]  # Probabilities for ROC AUC calculation\n",
    "\n",
    "# === Additional Metrics ===\n",
    "accuracy = accuracy_score(y_true, y_pred)\n",
    "precision = precision_score(y_true, y_pred)\n",
    "recall = recall_score(y_true, y_pred)\n",
    "f1 = f1_score(y_true, y_pred)\n",
    "roc_auc = roc_auc_score(y_true, y_prob)\n",
    "\n",
    "print(\"Detailed Classification Report:\")\n",
    "print(f\"Accuracy: {accuracy:.4f}\")\n",
    "print(f\"Precision: {precision:.4f}\")\n",
    "print(f\"Recall: {recall:.4f}\")\n",
    "print(f\"F1-Score: {f1:.4f}\")\n",
    "print(f\"ROC AUC Score: {roc_auc:.4f}\")\n",
    "\n",
    "# === Confusion Matrix ===\n",
    "cm = confusion_matrix(y_true, y_pred)\n",
    "plt.figure(figsize=(6,5))\n",
    "sns.heatmap(cm, annot=True, fmt='d', cmap='Blues', xticklabels=['Benign', 'Attack'], yticklabels=['Benign', 'Attack'])\n",
    "plt.xlabel(\"Predicted\")\n",
    "plt.ylabel(\"True\")\n",
    "plt.title(\"Confusion Matrix (Real Traffic)\")\n",
    "plt.tight_layout()\n",
    "plt.show()\n",
    "\n",
    "# === Metrics and confusion matrix ===\n",
    "print(\"Classification Report on Real Traffic:\")\n",
    "print(classification_report(y_true, y_pred, target_names=[\"Benign\", \"Attack\"]))\n",
    "\n",
    "\n",
    "print(\"Predictions made and evaluation complete.\")\n"
   ]
  },
  {
   "cell_type": "markdown",
   "id": "f994d741-e978-4a26-b64f-efece2b1f97d",
   "metadata": {},
   "source": [
    "## Conclusion and Real-World Viability\n",
    "\n",
    "The model shows balanced precision and recall on real attack data. Its ability to generalize confirms it is practical for detecting real-world threats and is suitable for deployment in an intrusion detection pipeline."
   ]
  },
  {
   "cell_type": "code",
   "execution_count": null,
   "id": "27b79b76-8801-47d8-9ea7-8e08b6b5f938",
   "metadata": {},
   "outputs": [],
   "source": []
  }
 ],
 "metadata": {
  "kernelspec": {
   "display_name": "Python 3 (ipykernel)",
   "language": "python",
   "name": "python3"
  },
  "language_info": {
   "codemirror_mode": {
    "name": "ipython",
    "version": 3
   },
   "file_extension": ".py",
   "mimetype": "text/x-python",
   "name": "python",
   "nbconvert_exporter": "python",
   "pygments_lexer": "ipython3",
   "version": "3.13.2"
  }
 },
 "nbformat": 4,
 "nbformat_minor": 5
}
