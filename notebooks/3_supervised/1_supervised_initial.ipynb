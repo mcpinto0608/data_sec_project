{
 "cells": [
  {
   "cell_type": "markdown",
   "id": "5fd41ce4-d175-40f2-b005-f6e54d3d5a53",
   "metadata": {},
   "source": [
    "## Supervised Random Forest Training on CIC-IDS Features\n",
    "\n",
    "This notebook trains a supervised Random Forest classifier using the labeled CIC-IDS dataset. It covers the full pipeline from data loading and preprocessing to model training, evaluation, and export. The goal is to establish a strong, labeled baseline for attack detection that addresses the sensitivity issues encountered with the previous unsupervised model. Evaluation is performed on a hold-out test set using standard classification metrics and confusion matrix visualization.\n"
   ]
  },
  {
   "cell_type": "markdown",
   "id": "1622b25a-f036-4bf3-908e-5a482758e6ad",
   "metadata": {},
   "source": [
    "## 1. Import and Setup\n",
    "\n",
    "This section imports all the necessary libraries for supervised model training, including `RandomForestClassifier`, data splitting, evaluation metrics, visualization, and file operations. It also defines key file paths for data input and model output, and ensures the output directory exists.\n"
   ]
  },
  {
   "cell_type": "code",
   "execution_count": 1,
   "id": "67dcfa4c-f1d7-4b90-87d5-6de2f5092886",
   "metadata": {},
   "outputs": [],
   "source": [
    "import pandas as pd\n",
    "import numpy as np\n",
    "from sklearn.model_selection import train_test_split\n",
    "from sklearn.ensemble import RandomForestClassifier\n",
    "from sklearn.metrics import classification_report, confusion_matrix\n",
    "import matplotlib.pyplot as plt\n",
    "import seaborn as sns\n",
    "import joblib\n",
    "import os"
   ]
  },
  {
   "cell_type": "code",
   "execution_count": 2,
   "id": "3cfa5e3a-7132-4731-8ab3-66f2bfe72dc7",
   "metadata": {},
   "outputs": [],
   "source": [
    "data_path = '../../data/cleaned_cic.csv'  # Full CIC-IDS dataset with label column\n",
    "model_output = '../../models/4_supervised_rf/model.joblib'\n",
    "scaler_output = '../../models/4_supervised_rf/scaler.joblib'\n",
    "os.makedirs('../../models/4_supervised_rf', exist_ok=True)"
   ]
  },
  {
   "cell_type": "markdown",
   "id": "253a6d56-f828-45dc-8112-43d169c4c9c9",
   "metadata": {},
   "source": [
    "## 2. Load and Prepare Dataset\n",
    "\n",
    "The cleaned CIC-IDS dataset is loaded into memory. The feature matrix `X` is separated from the label column `y` (which indicates whether a flow is benign or an attack). The label column is cast to integer format for compatibility with scikit-learn.\n"
   ]
  },
  {
   "cell_type": "code",
   "execution_count": 3,
   "id": "f3bc4e81-ef6f-40bb-9a8a-e7b196474927",
   "metadata": {},
   "outputs": [
    {
     "name": "stdout",
     "output_type": "stream",
     "text": [
      "Loading dataset...\n"
     ]
    }
   ],
   "source": [
    "print(\"Loading dataset...\")\n",
    "df = pd.read_csv(data_path)\n",
    "X = df.drop(columns=['attack'])\n",
    "y = df['attack'].astype(int)"
   ]
  },
  {
   "cell_type": "markdown",
   "id": "f9315d9a-cc60-490b-978e-1f4fe391036f",
   "metadata": {},
   "source": [
    "## 3. Split Data for Training and Testing and Model Training\n",
    "\n",
    "The dataset is split into training and test subsets using `train_test_split`, with 20% of the data held out for testing. Stratified sampling ensures the class distribution is preserved across both sets.\n",
    "\n",
    "A Random Forest classifier is trained on the training subset using 100 estimators and parallel processing. After training, the model is evaluated on the test set using the classification report and confusion matrix. The matrix is visualized using a heatmap to highlight model performance across both classes.\n"
   ]
  },
  {
   "cell_type": "code",
   "execution_count": 7,
   "id": "b5065885-37f8-4d8f-a9a5-47c0c6c4d34a",
   "metadata": {},
   "outputs": [],
   "source": [
    "X_train, X_test, y_train, y_test = train_test_split(X, y, stratify=y, test_size=0.2, random_state=42)"
   ]
  },
  {
   "cell_type": "code",
   "execution_count": null,
   "id": "148ac129-4d91-4a5b-8000-a10c6b2f168e",
   "metadata": {},
   "outputs": [
    {
     "name": "stdout",
     "output_type": "stream",
     "text": [
      "Training Random Forest classifier...\n"
     ]
    }
   ],
   "source": [
    "print(\"Training Random Forest classifier...\")\n",
    "rf = RandomForestClassifier(n_estimators=100, random_state=42, n_jobs=1)\n",
    "rf.fit(X_train, y_train)"
   ]
  },
  {
   "cell_type": "code",
   "execution_count": 6,
   "id": "ab33c49a-3057-41d7-b476-285c97f79d00",
   "metadata": {},
   "outputs": [
    {
     "name": "stdout",
     "output_type": "stream",
     "text": [
      "Evaluating on test set...\n",
      "              precision    recall  f1-score   support\n",
      "\n",
      "      Benign       1.00      1.00      1.00    454265\n",
      "      Attack       1.00      1.00      1.00    111311\n",
      "\n",
      "    accuracy                           1.00    565576\n",
      "   macro avg       1.00      1.00      1.00    565576\n",
      "weighted avg       1.00      1.00      1.00    565576\n",
      "\n"
     ]
    },
    {
     "data": {
      "image/png": "[encoded data removed]",
      "text/plain": [
       "<Figure size 600x500 with 2 Axes>"
      ]
     },
     "metadata": {},
     "output_type": "display_data"
    }
   ],
   "source": [
    "print(\"Evaluating on test set...\")\n",
    "y_pred = rf.predict(X_test)\n",
    "print(classification_report(y_test, y_pred, target_names=['Benign', 'Attack']))\n",
    "\n",
    "cm = confusion_matrix(y_test, y_pred)\n",
    "plt.figure(figsize=(6,5))\n",
    "sns.heatmap(cm, annot=True, fmt='d', cmap='Blues', xticklabels=['Benign', 'Attack'], yticklabels=['Benign', 'Attack'])\n",
    "plt.title(\"Confusion Matrix\")\n",
    "plt.xlabel(\"Predicted\")\n",
    "plt.ylabel(\"Actual\")\n",
    "plt.tight_layout()\n",
    "plt.show()"
   ]
  },
  {
   "cell_type": "markdown",
   "id": "651e26e3-e70b-484d-8dc6-361ffcad82c2",
   "metadata": {},
   "source": [
    "## 4. Save Trained Model\n",
    "The final trained model is saved to disk using `joblib` for future inference or deployment. The path for storage is defined in the configuration section.\n"
   ]
  },
  {
   "cell_type": "code",
   "execution_count": 8,
   "id": "b643ab02-755d-4092-b0fa-44987661e963",
   "metadata": {},
   "outputs": [
    {
     "name": "stdout",
     "output_type": "stream",
     "text": [
      "Saving model...\n",
      "Model saved to ../../models/4_supervised_rf/model.joblib\n"
     ]
    }
   ],
   "source": [
    "print(\"Saving model...\")\n",
    "joblib.dump(rf, model_output)\n",
    "print(f\"Model saved to {model_output}\")"
   ]
  },
  {
   "cell_type": "code",
   "execution_count": null,
   "id": "c20bb883-01ba-468e-83f2-cb8d2174ba20",
   "metadata": {},
   "outputs": [],
   "source": []
  }
 ],
 "metadata": {
  "kernelspec": {
   "display_name": "Python 3 (ipykernel)",
   "language": "python",
   "name": "python3"
  },
  "language_info": {
   "codemirror_mode": {
    "name": "ipython",
    "version": 3
   },
   "file_extension": ".py",
   "mimetype": "text/x-python",
   "name": "python",
   "nbconvert_exporter": "python",
   "pygments_lexer": "ipython3",
   "version": "3.13.2"
  }
 },
 "nbformat": 4,
 "nbformat_minor": 5
}
