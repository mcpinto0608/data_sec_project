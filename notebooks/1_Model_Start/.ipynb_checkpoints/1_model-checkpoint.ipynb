{
 "cells": [
  {
   "cell_type": "markdown",
   "id": "fb5aa944-4626-4f5b-9454-672d4f62430b",
   "metadata": {},
   "source": [
    "# Isolation Forest - Initial Model Training and Tuning\n",
    "\n",
    "This notebook covers the first training and tuning of an Isolation Forest model for unsupervised anomaly detection using flow-based network traffic data.\n",
    "\n",
    "It includes the following steps:\n",
    "\n",
    "- Loading and preparing CIC-IDS2017 feature data\n",
    "- Cleaning and preprocessing\n",
    "- Scaling and selecting features\n",
    "- Training the Isolation Forest using only benign traffic\n",
    "- Tuning the decision threshold to balance detection performance\n",
    "- Evaluating the model\n",
    "- Saving the final model and scaler for future use\n",
    "\n",
    "The goal is to detect network attacks with a balance between high recall and a low false positive rate, while ensuring the model remains generalizable to real-world data.\n"
   ]
  },
  {
   "cell_type": "markdown",
   "id": "60802b54-d631-439f-9c3d-c623acaeccba",
   "metadata": {},
   "source": [
    "# 1. Setup and Imports\n",
    "\n",
    "Import required libraries for data handling, preprocessing, model training, evaluation, and saving.\n"
   ]
  },
  {
   "cell_type": "code",
   "execution_count": 2,
   "id": "c93d46ee-5aa4-42fa-9be1-be6ffc0a229c",
   "metadata": {},
   "outputs": [],
   "source": [
    "import pandas as pd\n",
    "import numpy as np\n",
    "import glob\n",
    "from sklearn.preprocessing import StandardScaler\n",
    "import matplotlib.pyplot as plt\n",
    "import seaborn as sns"
   ]
  },
  {
   "cell_type": "markdown",
   "id": "7d6fa597-a38e-4cc0-a730-2c98ebfd8a1c",
   "metadata": {},
   "source": [
    "# 2. Load and Combine Dataset\n",
    "\n",
    "Load the preprocessed CSV files from the dataset folder and combine them into a single dataset for training and evaluation."
   ]
  },
  {
   "cell_type": "code",
   "execution_count": 4,
   "id": "cf527c0e-5103-4612-8efc-51a6fde778c9",
   "metadata": {},
   "outputs": [
    {
     "name": "stdout",
     "output_type": "stream",
     "text": [
      "Loading ../../data/Monday-WorkingHours.pcap_ISCX.csv...\n",
      "Loading ../../data/Friday-WorkingHours-Morning.pcap_ISCX.csv...\n",
      "Loading ../../data/Friday-WorkingHours-Afternoon-PortScan.pcap_ISCX.csv...\n",
      "Loading ../../data/Friday-WorkingHours-Afternoon-DDos.pcap_ISCX.csv...\n",
      "Loading ../../data/Tuesday-WorkingHours.pcap_ISCX.csv...\n",
      "Loading ../../data/Thursday-WorkingHours-Afternoon-Infiltration.pcap_ISCX.csv...\n",
      "Loading ../../data/Wednesday-workingHours.pcap_ISCX.csv...\n",
      "Loading ../../data/Thursday-WorkingHours-Morning-WebAttacks.pcap_ISCX.csv...\n",
      "Combined dataset shape: (2830743, 79)\n"
     ]
    }
   ],
   "source": [
    "#Load csv files from dataset\n",
    "file_paths = glob.glob(\"../../data/*.csv\")\n",
    "if not file_paths:\n",
    "    raise FileNotFoundError(\"No CSV files found in the 'data' folder. Check your path!\")\n",
    "\n",
    "dfs = []\n",
    "#Combine files into a singel CSV for easier access\n",
    "for file in file_paths:\n",
    "    print(f\"Loading {file}...\")\n",
    "    df = pd.read_csv(file, low_memory = False)\n",
    "    dfs.append(df)\n",
    "\n",
    "data = pd.concat(dfs, ignore_index=True)\n",
    "print(\"Combined dataset shape:\", data.shape)"
   ]
  },
  {
   "cell_type": "markdown",
   "id": "030450e4-3c87-4d35-aaa8-1cb5f984943f",
   "metadata": {},
   "source": [
    "# 3. Data Cleaning and Labeling\n",
    "\n",
    "Standardize column names, drop unnecessary or identifier fields (e.g., IPs, timestamps), and convert the original labels into a binary attack label (0 = benign, 1 = attack). Handle any missing or infinite values.\n"
   ]
  },
  {
   "cell_type": "code",
   "execution_count": 5,
   "id": "5a367a20-8f9f-428c-b12b-13e7a785f3d2",
   "metadata": {},
   "outputs": [
    {
     "name": "stdout",
     "output_type": "stream",
     "text": [
      "Cleaned column names:\n",
      "['destination port', 'flow duration', 'total fwd packets', 'total backward packets', 'total length of fwd packets', 'total length of bwd packets', 'fwd packet length max', 'fwd packet length min', 'fwd packet length mean', 'fwd packet length std', 'bwd packet length max', 'bwd packet length min', 'bwd packet length mean', 'bwd packet length std', 'flow bytes/s', 'flow packets/s', 'flow iat mean', 'flow iat std', 'flow iat max', 'flow iat min', 'fwd iat total', 'fwd iat mean', 'fwd iat std', 'fwd iat max', 'fwd iat min', 'bwd iat total', 'bwd iat mean', 'bwd iat std', 'bwd iat max', 'bwd iat min', 'fwd psh flags', 'bwd psh flags', 'fwd urg flags', 'bwd urg flags', 'fwd header length', 'bwd header length', 'fwd packets/s', 'bwd packets/s', 'min packet length', 'max packet length', 'packet length mean', 'packet length std', 'packet length variance', 'fin flag count', 'syn flag count', 'rst flag count', 'psh flag count', 'ack flag count', 'urg flag count', 'cwe flag count', 'ece flag count', 'down/up ratio', 'average packet size', 'avg fwd segment size', 'avg bwd segment size', 'fwd header length.1', 'fwd avg bytes/bulk', 'fwd avg packets/bulk', 'fwd avg bulk rate', 'bwd avg bytes/bulk', 'bwd avg packets/bulk', 'bwd avg bulk rate', 'subflow fwd packets', 'subflow fwd bytes', 'subflow bwd packets', 'subflow bwd bytes', 'init_win_bytes_forward', 'init_win_bytes_backward', 'act_data_pkt_fwd', 'min_seg_size_forward', 'active mean', 'active std', 'active max', 'active min', 'idle mean', 'idle std', 'idle max', 'idle min', 'label']\n"
     ]
    }
   ],
   "source": [
    "# Clean column names: strip whitespace and convert to lowercase for consistency\n",
    "data.columns = data.columns.str.strip().str.lower()\n",
    "\n",
    "# Preview cleaned column names\n",
    "print(\"Cleaned column names:\")\n",
    "print(data.columns.tolist())\n",
    "#Output all the features present in the dataset"
   ]
  },
  {
   "cell_type": "code",
   "execution_count": 6,
   "id": "d8118f7f-b21f-4489-8035-797239fe928e",
   "metadata": {},
   "outputs": [],
   "source": [
    "# Label data as: 0 = BENIGN, 1 = ATTACK\n",
    "if 'label' not in data.columns:\n",
    "    raise KeyError(\"The 'label' column is missing. Check column cleanup.\")\n",
    "\n",
    "data['attack'] = data['label'].apply(lambda x: 0 if x == 'BENIGN' else 1)\n"
   ]
  },
  {
   "cell_type": "code",
   "execution_count": 7,
   "id": "d8cd69b4-20ac-4fb3-9f25-b3132f38584e",
   "metadata": {},
   "outputs": [],
   "source": [
    "#Remove basic collumns\n",
    "drop_cols = ['label', 'flow id', 'timestamp', 'source ip', 'destination ip',\n",
    "             'source port', 'destination port', 'protocol']\n",
    "\n",
    "for col in drop_cols:\n",
    "    if col in data.columns:\n",
    "        data.drop(col, axis=1, inplace=True)\n"
   ]
  },
  {
   "cell_type": "code",
   "execution_count": 8,
   "id": "17d53dfd-0e09-4b21-8633-5b0e8fe23a41",
   "metadata": {},
   "outputs": [
    {
     "name": "stdout",
     "output_type": "stream",
     "text": [
      " Cleaned dataset shape: (2827876, 78)\n"
     ]
    }
   ],
   "source": [
    "# Replace inf/-inf with NaN, then drop all rows with missing values\n",
    "data.replace([np.inf, -np.inf], np.nan, inplace=True)\n",
    "data.dropna(inplace=True)\n",
    "print(f\" Cleaned dataset shape: {data.shape}\")\n"
   ]
  },
  {
   "cell_type": "markdown",
   "id": "6ae2554b-4212-4e67-b43b-347ec4e92622",
   "metadata": {},
   "source": [
    "# 4. Feature Scaling and Variance Filtering\n",
    "\n",
    "Apply feature scaling using StandardScaler and filter out low-variance features that do not contribute meaningful information for anomaly detection.\n"
   ]
  },
  {
   "cell_type": "code",
   "execution_count": 9,
   "id": "47e84f20-71ed-4edd-9654-eaf348764747",
   "metadata": {},
   "outputs": [],
   "source": [
    "# Separate features and target\n",
    "X = data.drop('attack', axis=1)\n",
    "y = data['attack']\n"
   ]
  },
  {
   "cell_type": "code",
   "execution_count": 10,
   "id": "e98b9822-b1b5-4062-bf04-de1ce5988e03",
   "metadata": {},
   "outputs": [
    {
     "name": "stdout",
     "output_type": "stream",
     "text": [
      " Data normalized and ready for modeling.\n"
     ]
    }
   ],
   "source": [
    "scaler = StandardScaler()\n",
    "X_scaled = scaler.fit_transform(X)\n",
    "print(\" Data normalized and ready for modeling.\")\n"
   ]
  },
  {
   "cell_type": "code",
   "execution_count": 12,
   "id": "649aa4ae-f6a9-4c66-bf9c-0b569f98f19c",
   "metadata": {},
   "outputs": [
    {
     "name": "stdout",
     "output_type": "stream",
     "text": [
      "Final dataset shape: (2827876, 78)\n"
     ]
    },
    {
     "data": {
      "text/html": [
       "<div>\n",
       "<style scoped>\n",
       "    .dataframe tbody tr th:only-of-type {\n",
       "        vertical-align: middle;\n",
       "    }\n",
       "\n",
       "    .dataframe tbody tr th {\n",
       "        vertical-align: top;\n",
       "    }\n",
       "\n",
       "    .dataframe thead th {\n",
       "        text-align: right;\n",
       "    }\n",
       "</style>\n",
       "<table border=\"1\" class=\"dataframe\">\n",
       "  <thead>\n",
       "    <tr style=\"text-align: right;\">\n",
       "      <th></th>\n",
       "      <th>flow duration</th>\n",
       "      <th>total fwd packets</th>\n",
       "      <th>total backward packets</th>\n",
       "      <th>total length of fwd packets</th>\n",
       "      <th>total length of bwd packets</th>\n",
       "      <th>fwd packet length max</th>\n",
       "      <th>fwd packet length min</th>\n",
       "      <th>fwd packet length mean</th>\n",
       "      <th>fwd packet length std</th>\n",
       "      <th>bwd packet length max</th>\n",
       "      <th>...</th>\n",
       "      <th>min_seg_size_forward</th>\n",
       "      <th>active mean</th>\n",
       "      <th>active std</th>\n",
       "      <th>active max</th>\n",
       "      <th>active min</th>\n",
       "      <th>idle mean</th>\n",
       "      <th>idle std</th>\n",
       "      <th>idle max</th>\n",
       "      <th>idle min</th>\n",
       "      <th>attack</th>\n",
       "    </tr>\n",
       "  </thead>\n",
       "  <tbody>\n",
       "    <tr>\n",
       "      <th>0</th>\n",
       "      <td>4</td>\n",
       "      <td>2</td>\n",
       "      <td>0</td>\n",
       "      <td>12</td>\n",
       "      <td>0</td>\n",
       "      <td>6</td>\n",
       "      <td>6</td>\n",
       "      <td>6.0</td>\n",
       "      <td>0.0</td>\n",
       "      <td>0</td>\n",
       "      <td>...</td>\n",
       "      <td>20</td>\n",
       "      <td>0.0</td>\n",
       "      <td>0.0</td>\n",
       "      <td>0</td>\n",
       "      <td>0</td>\n",
       "      <td>0.0</td>\n",
       "      <td>0.0</td>\n",
       "      <td>0</td>\n",
       "      <td>0</td>\n",
       "      <td>0</td>\n",
       "    </tr>\n",
       "    <tr>\n",
       "      <th>1</th>\n",
       "      <td>1</td>\n",
       "      <td>2</td>\n",
       "      <td>0</td>\n",
       "      <td>12</td>\n",
       "      <td>0</td>\n",
       "      <td>6</td>\n",
       "      <td>6</td>\n",
       "      <td>6.0</td>\n",
       "      <td>0.0</td>\n",
       "      <td>0</td>\n",
       "      <td>...</td>\n",
       "      <td>20</td>\n",
       "      <td>0.0</td>\n",
       "      <td>0.0</td>\n",
       "      <td>0</td>\n",
       "      <td>0</td>\n",
       "      <td>0.0</td>\n",
       "      <td>0.0</td>\n",
       "      <td>0</td>\n",
       "      <td>0</td>\n",
       "      <td>0</td>\n",
       "    </tr>\n",
       "    <tr>\n",
       "      <th>2</th>\n",
       "      <td>1</td>\n",
       "      <td>2</td>\n",
       "      <td>0</td>\n",
       "      <td>12</td>\n",
       "      <td>0</td>\n",
       "      <td>6</td>\n",
       "      <td>6</td>\n",
       "      <td>6.0</td>\n",
       "      <td>0.0</td>\n",
       "      <td>0</td>\n",
       "      <td>...</td>\n",
       "      <td>20</td>\n",
       "      <td>0.0</td>\n",
       "      <td>0.0</td>\n",
       "      <td>0</td>\n",
       "      <td>0</td>\n",
       "      <td>0.0</td>\n",
       "      <td>0.0</td>\n",
       "      <td>0</td>\n",
       "      <td>0</td>\n",
       "      <td>0</td>\n",
       "    </tr>\n",
       "    <tr>\n",
       "      <th>3</th>\n",
       "      <td>1</td>\n",
       "      <td>2</td>\n",
       "      <td>0</td>\n",
       "      <td>12</td>\n",
       "      <td>0</td>\n",
       "      <td>6</td>\n",
       "      <td>6</td>\n",
       "      <td>6.0</td>\n",
       "      <td>0.0</td>\n",
       "      <td>0</td>\n",
       "      <td>...</td>\n",
       "      <td>20</td>\n",
       "      <td>0.0</td>\n",
       "      <td>0.0</td>\n",
       "      <td>0</td>\n",
       "      <td>0</td>\n",
       "      <td>0.0</td>\n",
       "      <td>0.0</td>\n",
       "      <td>0</td>\n",
       "      <td>0</td>\n",
       "      <td>0</td>\n",
       "    </tr>\n",
       "    <tr>\n",
       "      <th>4</th>\n",
       "      <td>3</td>\n",
       "      <td>2</td>\n",
       "      <td>0</td>\n",
       "      <td>12</td>\n",
       "      <td>0</td>\n",
       "      <td>6</td>\n",
       "      <td>6</td>\n",
       "      <td>6.0</td>\n",
       "      <td>0.0</td>\n",
       "      <td>0</td>\n",
       "      <td>...</td>\n",
       "      <td>20</td>\n",
       "      <td>0.0</td>\n",
       "      <td>0.0</td>\n",
       "      <td>0</td>\n",
       "      <td>0</td>\n",
       "      <td>0.0</td>\n",
       "      <td>0.0</td>\n",
       "      <td>0</td>\n",
       "      <td>0</td>\n",
       "      <td>0</td>\n",
       "    </tr>\n",
       "  </tbody>\n",
       "</table>\n",
       "<p>5 rows × 78 columns</p>\n",
       "</div>"
      ],
      "text/plain": [
       "   flow duration  total fwd packets  total backward packets  \\\n",
       "0              4                  2                       0   \n",
       "1              1                  2                       0   \n",
       "2              1                  2                       0   \n",
       "3              1                  2                       0   \n",
       "4              3                  2                       0   \n",
       "\n",
       "   total length of fwd packets  total length of bwd packets  \\\n",
       "0                           12                            0   \n",
       "1                           12                            0   \n",
       "2                           12                            0   \n",
       "3                           12                            0   \n",
       "4                           12                            0   \n",
       "\n",
       "   fwd packet length max  fwd packet length min  fwd packet length mean  \\\n",
       "0                      6                      6                     6.0   \n",
       "1                      6                      6                     6.0   \n",
       "2                      6                      6                     6.0   \n",
       "3                      6                      6                     6.0   \n",
       "4                      6                      6                     6.0   \n",
       "\n",
       "   fwd packet length std  bwd packet length max  ...  min_seg_size_forward  \\\n",
       "0                    0.0                      0  ...                    20   \n",
       "1                    0.0                      0  ...                    20   \n",
       "2                    0.0                      0  ...                    20   \n",
       "3                    0.0                      0  ...                    20   \n",
       "4                    0.0                      0  ...                    20   \n",
       "\n",
       "   active mean  active std  active max  active min  idle mean  idle std  \\\n",
       "0          0.0         0.0           0           0        0.0       0.0   \n",
       "1          0.0         0.0           0           0        0.0       0.0   \n",
       "2          0.0         0.0           0           0        0.0       0.0   \n",
       "3          0.0         0.0           0           0        0.0       0.0   \n",
       "4          0.0         0.0           0           0        0.0       0.0   \n",
       "\n",
       "   idle max  idle min  attack  \n",
       "0         0         0       0  \n",
       "1         0         0       0  \n",
       "2         0         0       0  \n",
       "3         0         0       0  \n",
       "4         0         0       0  \n",
       "\n",
       "[5 rows x 78 columns]"
      ]
     },
     "execution_count": 12,
     "metadata": {},
     "output_type": "execute_result"
    }
   ],
   "source": [
    "print(\"Final dataset shape:\", data.shape)\n",
    "data.head(5)"
   ]
  },
  {
   "cell_type": "code",
   "execution_count": 13,
   "id": "89df13b2-0ef8-466c-9f01-0d198d4ec6f0",
   "metadata": {},
   "outputs": [],
   "source": [
    "data.to_csv(\"../../data/cleaned_cic.csv\", index=False)"
   ]
  },
  {
   "cell_type": "markdown",
   "id": "5737c89b-e3ee-43fc-bdd7-d2f9c2002cc6",
   "metadata": {},
   "source": [
    "# 5. Isolation Forest Training\n",
    "\n",
    "Train the Isolation Forest model using only benign samples. This allows the model to learn a profile of normal traffic behavior without being biased by known attack patterns.\n"
   ]
  },
  {
   "cell_type": "code",
   "execution_count": 14,
   "id": "89cbc36b-7de9-4fc5-8eba-db1a039a2cf1",
   "metadata": {},
   "outputs": [],
   "source": [
    "from sklearn.ensemble import IsolationForest\n",
    "from sklearn.metrics import classification_report, confusion_matrix\n",
    "import matplotlib.pyplot as plt\n",
    "import seaborn as sns"
   ]
  },
  {
   "cell_type": "code",
   "execution_count": 15,
   "id": "1e480d01-5ae6-4f37-995a-24400f8d2408",
   "metadata": {},
   "outputs": [
    {
     "name": "stdout",
     "output_type": "stream",
     "text": [
      " Model trained on normal traffic only (Benign samples).\n",
      "Training samples shape: (2271320, 77)\n"
     ]
    }
   ],
   "source": [
    "# ➤ Train only on normal traffic to let the model learn \"normal\" behavior\n",
    "X_train = X_scaled[y == 0]\n",
    "\n",
    "# ➤ Initialize the Isolation Forest\n",
    "model = IsolationForest(\n",
    "    n_estimators=100,        # Number of trees in the forest\n",
    "    contamination=0.01,      # Estimated proportion of anomalies in the data\n",
    "    random_state=42          # For reproducibility\n",
    ")\n",
    "\n",
    "# ➤ Fit the model on normal traffic\n",
    "model.fit(X_train)\n",
    "\n",
    "print(\" Model trained on normal traffic only (Benign samples).\")\n",
    "print(\"Training samples shape:\", X_train.shape)\n"
   ]
  },
  {
   "cell_type": "code",
   "execution_count": 16,
   "id": "f1557912-41bd-4983-8709-6eca7b475a38",
   "metadata": {},
   "outputs": [
    {
     "name": "stdout",
     "output_type": "stream",
     "text": [
      "\n",
      "🔍 Sample predictions (first 10):\n",
      "Actual: 0 | Predicted: 0\n",
      "Actual: 0 | Predicted: 0\n",
      "Actual: 0 | Predicted: 0\n",
      "Actual: 0 | Predicted: 0\n",
      "Actual: 0 | Predicted: 0\n",
      "Actual: 0 | Predicted: 0\n",
      "Actual: 0 | Predicted: 0\n",
      "Actual: 0 | Predicted: 0\n",
      "Actual: 0 | Predicted: 0\n",
      "Actual: 0 | Predicted: 0\n"
     ]
    }
   ],
   "source": [
    "# ➤ Use the model to predict on the full dataset (normal + attacks)\n",
    "# Isolation Forest returns: 1 for normal, -1 for anomaly\n",
    "y_pred_raw = model.predict(X_scaled)\n",
    "\n",
    "# ➤ Convert to match original labels: 0 = Benign, 1 = Attack\n",
    "y_pred = [0 if val == 1 else 1 for val in y_pred_raw]\n",
    "\n",
    "# ➤ Print a few examples for clarity\n",
    "print(\"\\n🔍 Sample predictions (first 10):\")\n",
    "for i in range(10):\n",
    "    print(f\"Actual: {y.iloc[i]} | Predicted: {y_pred[i]}\")\n"
   ]
  },
  {
   "cell_type": "code",
   "execution_count": 17,
   "id": "7864270a-e1d0-4fad-959c-1fd0c8c26b95",
   "metadata": {},
   "outputs": [
    {
     "name": "stdout",
     "output_type": "stream",
     "text": [
      "\n",
      " Confusion Matrix (rows = actual, columns = predicted):\n",
      "[[2248606   22714]\n",
      " [ 554248    2308]]\n",
      "\n",
      " Classification Report:\n",
      "              precision    recall  f1-score   support\n",
      "\n",
      "      Benign       0.80      0.99      0.89   2271320\n",
      "      Attack       0.09      0.00      0.01    556556\n",
      "\n",
      "    accuracy                           0.80   2827876\n",
      "   macro avg       0.45      0.50      0.45   2827876\n",
      "weighted avg       0.66      0.80      0.71   2827876\n",
      "\n"
     ]
    }
   ],
   "source": [
    "# ➤ Generate confusion matrix\n",
    "cm = confusion_matrix(y, y_pred)\n",
    "\n",
    "# ➤ Print Confusion Matrix\n",
    "print(\"\\n Confusion Matrix (rows = actual, columns = predicted):\")\n",
    "print(cm)\n",
    "\n",
    "# ➤ Classification Report (Precision, Recall, F1-score)\n",
    "print(\"\\n Classification Report:\")\n",
    "print(classification_report(y, y_pred, target_names=[\"Benign\", \"Attack\"]))\n"
   ]
  },
  {
   "cell_type": "code",
   "execution_count": 19,
   "id": "f0332e99-4393-4f35-b4d0-f9d09da6868a",
   "metadata": {},
   "outputs": [],
   "source": [
    "# Get anomaly scores (higher = more normal, lower = more suspicious)\n",
    "scores = model.decision_function(X_scaled)"
   ]
  },
  {
   "cell_type": "code",
   "execution_count": 20,
   "id": "d5c05602-1ba5-4112-9b55-54d8f2eca222",
   "metadata": {},
   "outputs": [
    {
     "data": {
      "image/png": "[encoded data removed]",
      "text/plain": [
       "<Figure size 1000x400 with 1 Axes>"
      ]
     },
     "metadata": {},
     "output_type": "display_data"
    }
   ],
   "source": [
    "plt.figure(figsize=(10, 4))\n",
    "sns.histplot(scores, bins=100, kde=True)\n",
    "plt.title(\"Anomaly Score Distribution\")\n",
    "plt.xlabel(\"Anomaly Score (Higher = More Normal)\")\n",
    "plt.ylabel(\"Frequency\")\n",
    "plt.grid(True)\n",
    "plt.show()"
   ]
  },
  {
   "cell_type": "markdown",
   "id": "36705572-dbe9-4e99-a8db-04551f528180",
   "metadata": {},
   "source": [
    "# 6. Threshold Tuning\n",
    "\n",
    "Use the model's decision function scores to explore different thresholds. The goal is to find the threshold that provides the best balance between precision and recall (typically optimized for F1-score).\n"
   ]
  },
  {
   "cell_type": "code",
   "execution_count": 21,
   "id": "5fbf1287-234b-40ce-84b1-d17839bf7463",
   "metadata": {},
   "outputs": [],
   "source": [
    "from sklearn.metrics import precision_score, recall_score, f1_score"
   ]
  },
  {
   "cell_type": "code",
   "execution_count": 22,
   "id": "86107612-2944-45d2-b01e-e74289f91331",
   "metadata": {},
   "outputs": [],
   "source": [
    "#Adjusting Thresholds - Loop that tests different thresholds, \n",
    "#converts the scores into predictions and calculates precision"
   ]
  },
  {
   "cell_type": "code",
   "execution_count": 23,
   "id": "00912dc8-5681-4094-a0cd-8e2437b9688d",
   "metadata": {},
   "outputs": [],
   "source": [
    "thresholds = np.linspace(min(scores), max(scores), 50)  # 50 thresholds from low to high\n",
    "\n",
    "results = []\n",
    "\n",
    "for t in thresholds:\n",
    "    predictions = [1 if s < t else 0 for s in scores]\n",
    "    \n",
    "    precision = precision_score(y, predictions, zero_division=0)\n",
    "    recall = recall_score(y, predictions, zero_division=0)\n",
    "    f1 = f1_score(y, predictions, zero_division=0)\n",
    "\n",
    "    results.append((t, precision, recall, f1))"
   ]
  },
  {
   "cell_type": "code",
   "execution_count": 24,
   "id": "91d40bc4-e331-41ce-a82b-0b9f0a9aa43f",
   "metadata": {},
   "outputs": [
    {
     "data": {
      "text/html": [
       "<div>\n",
       "<style scoped>\n",
       "    .dataframe tbody tr th:only-of-type {\n",
       "        vertical-align: middle;\n",
       "    }\n",
       "\n",
       "    .dataframe tbody tr th {\n",
       "        vertical-align: top;\n",
       "    }\n",
       "\n",
       "    .dataframe thead th {\n",
       "        text-align: right;\n",
       "    }\n",
       "</style>\n",
       "<table border=\"1\" class=\"dataframe\">\n",
       "  <thead>\n",
       "    <tr style=\"text-align: right;\">\n",
       "      <th></th>\n",
       "      <th>Threshold</th>\n",
       "      <th>Precision</th>\n",
       "      <th>Recall</th>\n",
       "      <th>F1</th>\n",
       "    </tr>\n",
       "  </thead>\n",
       "  <tbody>\n",
       "    <tr>\n",
       "      <th>40</th>\n",
       "      <td>0.246714</td>\n",
       "      <td>0.336628</td>\n",
       "      <td>0.472499</td>\n",
       "      <td>0.393156</td>\n",
       "    </tr>\n",
       "    <tr>\n",
       "      <th>41</th>\n",
       "      <td>0.255960</td>\n",
       "      <td>0.314462</td>\n",
       "      <td>0.484372</td>\n",
       "      <td>0.381347</td>\n",
       "    </tr>\n",
       "    <tr>\n",
       "      <th>42</th>\n",
       "      <td>0.265206</td>\n",
       "      <td>0.315041</td>\n",
       "      <td>0.527210</td>\n",
       "      <td>0.394402</td>\n",
       "    </tr>\n",
       "    <tr>\n",
       "      <th>43</th>\n",
       "      <td>0.274453</td>\n",
       "      <td>0.301904</td>\n",
       "      <td>0.546567</td>\n",
       "      <td>0.388960</td>\n",
       "    </tr>\n",
       "    <tr>\n",
       "      <th>44</th>\n",
       "      <td>0.283699</td>\n",
       "      <td>0.284100</td>\n",
       "      <td>0.557308</td>\n",
       "      <td>0.376348</td>\n",
       "    </tr>\n",
       "    <tr>\n",
       "      <th>45</th>\n",
       "      <td>0.292945</td>\n",
       "      <td>0.264982</td>\n",
       "      <td>0.589871</td>\n",
       "      <td>0.365689</td>\n",
       "    </tr>\n",
       "    <tr>\n",
       "      <th>46</th>\n",
       "      <td>0.302191</td>\n",
       "      <td>0.288605</td>\n",
       "      <td>0.820275</td>\n",
       "      <td>0.426981</td>\n",
       "    </tr>\n",
       "    <tr>\n",
       "      <th>47</th>\n",
       "      <td>0.311438</td>\n",
       "      <td>0.286755</td>\n",
       "      <td>0.977210</td>\n",
       "      <td>0.443398</td>\n",
       "    </tr>\n",
       "    <tr>\n",
       "      <th>48</th>\n",
       "      <td>0.320684</td>\n",
       "      <td>0.241419</td>\n",
       "      <td>1.000000</td>\n",
       "      <td>0.388941</td>\n",
       "    </tr>\n",
       "    <tr>\n",
       "      <th>49</th>\n",
       "      <td>0.329930</td>\n",
       "      <td>0.196814</td>\n",
       "      <td>1.000000</td>\n",
       "      <td>0.328896</td>\n",
       "    </tr>\n",
       "  </tbody>\n",
       "</table>\n",
       "</div>"
      ],
      "text/plain": [
       "    Threshold  Precision    Recall        F1\n",
       "40   0.246714   0.336628  0.472499  0.393156\n",
       "41   0.255960   0.314462  0.484372  0.381347\n",
       "42   0.265206   0.315041  0.527210  0.394402\n",
       "43   0.274453   0.301904  0.546567  0.388960\n",
       "44   0.283699   0.284100  0.557308  0.376348\n",
       "45   0.292945   0.264982  0.589871  0.365689\n",
       "46   0.302191   0.288605  0.820275  0.426981\n",
       "47   0.311438   0.286755  0.977210  0.443398\n",
       "48   0.320684   0.241419  1.000000  0.388941\n",
       "49   0.329930   0.196814  1.000000  0.328896"
      ]
     },
     "execution_count": 24,
     "metadata": {},
     "output_type": "execute_result"
    }
   ],
   "source": [
    "results_df = pd.DataFrame(results, columns=['Threshold', 'Precision', 'Recall', 'F1'])\n",
    "results_df.head(10)  # See first 10 rows\n",
    "results_df.tail(10)  # See last 10 rows"
   ]
  },
  {
   "cell_type": "code",
   "execution_count": 25,
   "id": "37b00c7b-70e6-4e27-8a26-44f90477c7d4",
   "metadata": {},
   "outputs": [
    {
     "name": "stdout",
     "output_type": "stream",
     "text": [
      " Best threshold based on F1-score:\n",
      "Threshold    0.145006\n",
      "Precision    0.565102\n",
      "Recall       0.445838\n",
      "F1           0.498435\n",
      "Name: 29, dtype: float64\n"
     ]
    }
   ],
   "source": [
    "best_row = results_df.loc[results_df['F1'].idxmax()]\n",
    "print(\" Best threshold based on F1-score:\")\n",
    "print(best_row)"
   ]
  },
  {
   "cell_type": "code",
   "execution_count": 26,
   "id": "7a4a81b4-2ea5-4d80-ad66-afde2917aee6",
   "metadata": {},
   "outputs": [
    {
     "data": {
      "image/png": "[encoded data removed]",
      "text/plain": [
       "<Figure size 1200x500 with 1 Axes>"
      ]
     },
     "metadata": {},
     "output_type": "display_data"
    }
   ],
   "source": [
    "plt.figure(figsize=(12, 5))\n",
    "plt.plot(results_df['Threshold'], results_df['Precision'], label='Precision')\n",
    "plt.plot(results_df['Threshold'], results_df['Recall'], label='Recall')\n",
    "plt.plot(results_df['Threshold'], results_df['F1'], label='F1 Score')\n",
    "plt.xlabel(\"Threshold\")\n",
    "plt.ylabel(\"Score\")\n",
    "plt.title(\"Threshold Tuning Results\")\n",
    "plt.legend()\n",
    "plt.grid(True)\n",
    "plt.show()"
   ]
  },
  {
   "cell_type": "code",
   "execution_count": 30,
   "id": "2f2c9380-ff92-4ccc-8f13-43c9956c1695",
   "metadata": {},
   "outputs": [],
   "source": [
    "# Use the best threshold\n",
    "best_threshold = best_row['Threshold']\n",
    "final_preds = [1 if s < best_threshold else 0 for s in scores]\n"
   ]
  },
  {
   "cell_type": "markdown",
   "id": "e1fa3156-1e78-41dd-a631-ca88d1dcc30e",
   "metadata": {},
   "source": [
    "# 7. Model Evaluation\n",
    "\n",
    "Evaluate the tuned model using precision, recall, F1-score, and a confusion matrix. This provides insight into how well the model detects attacks and avoids false positives.\n"
   ]
  },
  {
   "cell_type": "code",
   "execution_count": 31,
   "id": "31060e60-381b-496e-9963-308c486455ac",
   "metadata": {},
   "outputs": [
    {
     "name": "stdout",
     "output_type": "stream",
     "text": [
      "📊 Final Evaluation Report (Detailed):\n",
      " True Negatives (Benign correct):      2,080,358\n",
      " False Positives (Benign flagged):     190,962\n",
      " False Negatives (Attacks missed):     308,422\n",
      " True Positives (Attacks detected):    248,134\n",
      "------------------------------------------------------------\n",
      " Benign Precision: 0.8709\n",
      " Benign Recall:    0.9159\n",
      " Benign F1-Score:  0.8928\n",
      "------------------------------------------------------------\n",
      " Attack Precision: 0.5651\n",
      " Attack Recall:    0.4458\n",
      " Attack F1-Score:  0.4984\n",
      "------------------------------------------------------------\n",
      " Overall Accuracy: 0.8234\n",
      " ROC AUC Score:    0.6809\n",
      "\n",
      "🧾 Classification Report:\n",
      "\n",
      "              precision    recall  f1-score   support\n",
      "\n",
      "      Benign       0.87      0.92      0.89   2271320\n",
      "      Attack       0.57      0.45      0.50    556556\n",
      "\n",
      "    accuracy                           0.82   2827876\n",
      "   macro avg       0.72      0.68      0.70   2827876\n",
      "weighted avg       0.81      0.82      0.82   2827876\n",
      "\n"
     ]
    },
    {
     "name": "stderr",
     "output_type": "stream",
     "text": [
      "/var/folders/k6/4xpvr36n1pd9h50zqq6sz5c40000gp/T/ipykernel_72417/1151977055.py:58: UserWarning: Glyph 128204 (\\N{PUSHPIN}) missing from font(s) DejaVu Sans.\n",
      "  plt.tight_layout()\n",
      "/Users/Miguel/Desktop/Faculdade/Mestrado/EiT Digital - Cybersecurity/Ano 1 - Budapeste/Semestre 2/Data Security/ids-env/lib/python3.13/site-packages/IPython/core/pylabtools.py:170: UserWarning: Glyph 128204 (\\N{PUSHPIN}) missing from font(s) DejaVu Sans.\n",
      "  fig.canvas.print_figure(bytes_io, **kw)\n"
     ]
    },
    {
     "data": {
      "image/png": "[encoded data removed]",
      "text/plain": [
       "<Figure size 600x400 with 2 Axes>"
      ]
     },
     "metadata": {},
     "output_type": "display_data"
    }
   ],
   "source": [
    "from sklearn.metrics import (\n",
    "    classification_report,\n",
    "    confusion_matrix,\n",
    "    precision_score,\n",
    "    recall_score,\n",
    "    f1_score,\n",
    "    roc_auc_score\n",
    ")\n",
    "import seaborn as sns\n",
    "import matplotlib.pyplot as plt\n",
    "\n",
    "# Threshold already applied → final_preds available\n",
    "\n",
    "# Confusion Matrix\n",
    "conf_matrix = confusion_matrix(y, final_preds)\n",
    "tn, fp, fn, tp = conf_matrix.ravel()\n",
    "\n",
    "# Metrics\n",
    "precision_benign = precision_score(y, final_preds, pos_label=0)\n",
    "recall_benign = recall_score(y, final_preds, pos_label=0)\n",
    "f1_benign = f1_score(y, final_preds, pos_label=0)\n",
    "\n",
    "precision_attack = precision_score(y, final_preds, pos_label=1)\n",
    "recall_attack = recall_score(y, final_preds, pos_label=1)\n",
    "f1_attack = f1_score(y, final_preds, pos_label=1)\n",
    "\n",
    "roc_auc = roc_auc_score(y, final_preds)\n",
    "\n",
    "# Print full report\n",
    "print(\"📊 Final Evaluation Report (Detailed):\")\n",
    "print(f\" True Negatives (Benign correct):      {tn:,}\")\n",
    "print(f\" False Positives (Benign flagged):     {fp:,}\")\n",
    "print(f\" False Negatives (Attacks missed):     {fn:,}\")\n",
    "print(f\" True Positives (Attacks detected):    {tp:,}\")\n",
    "print(\"-\" * 60)\n",
    "print(f\" Benign Precision: {precision_benign:.4f}\")\n",
    "print(f\" Benign Recall:    {recall_benign:.4f}\")\n",
    "print(f\" Benign F1-Score:  {f1_benign:.4f}\")\n",
    "print(\"-\" * 60)\n",
    "print(f\" Attack Precision: {precision_attack:.4f}\")\n",
    "print(f\" Attack Recall:    {recall_attack:.4f}\")\n",
    "print(f\" Attack F1-Score:  {f1_attack:.4f}\")\n",
    "print(\"-\" * 60)\n",
    "print(f\" Overall Accuracy: {(tp + tn) / (tp + tn + fp + fn):.4f}\")\n",
    "print(f\" ROC AUC Score:    {roc_auc:.4f}\")\n",
    "\n",
    "# Classification report table\n",
    "print(\"\\n🧾 Classification Report:\\n\")\n",
    "print(classification_report(y, final_preds, target_names=[\"Benign\", \"Attack\"]))\n",
    "\n",
    "# Heatmap\n",
    "plt.figure(figsize=(6, 4))\n",
    "sns.heatmap(conf_matrix, annot=True, fmt=\"d\", cmap=\"Blues\",\n",
    "            xticklabels=[\"Benign\", \"Attack\"], yticklabels=[\"Benign\", \"Attack\"])\n",
    "plt.title(\"📌 Confusion Matrix (Final Model)\")\n",
    "plt.xlabel(\"Predicted Label\")\n",
    "plt.ylabel(\"True Label\")\n",
    "plt.tight_layout()\n",
    "plt.show()\n"
   ]
  },
  {
   "cell_type": "markdown",
   "id": "566dae77-edcb-4821-9a5c-9bdf0df6425f",
   "metadata": {},
   "source": [
    "# 8. Save Model and Scaler\n",
    "\n",
    "Save the trained Isolation Forest model and the scaler used during feature preparation. These artifacts are required for later testing, deployment, or integration into a scoring pipeline.\n"
   ]
  },
  {
   "cell_type": "code",
   "execution_count": 29,
   "id": "e4080dd6-2929-4725-a194-96af9286bc83",
   "metadata": {},
   "outputs": [
    {
     "name": "stdout",
     "output_type": "stream",
     "text": [
      "✅ Model saved to:   ../../models/first_model/forest_model.joblib\n",
      "✅ Scaler saved to:  ../../models/first_model/scaler.joblib\n"
     ]
    }
   ],
   "source": [
    "import joblib\n",
    "from pathlib import Path\n",
    "\n",
    "# Create path to models/first_model\n",
    "model_dir = Path(\"../../models/first_model\")\n",
    "model_dir.mkdir(parents=True, exist_ok=True)\n",
    "\n",
    "# Define file paths\n",
    "model_path = model_dir / \"forest_model.joblib\"\n",
    "scaler_path = model_dir / \"scaler.joblib\"\n",
    "\n",
    "# Save and overwrite if needed\n",
    "joblib.dump(model, model_path)\n",
    "joblib.dump(scaler, scaler_path)\n",
    "\n",
    "print(f\"✅ Model saved to:   {model_path}\")\n",
    "print(f\"✅ Scaler saved to:  {scaler_path}\")\n"
   ]
  },
  {
   "cell_type": "code",
   "execution_count": null,
   "id": "734f6f83-18f6-47e1-beac-03641cf5f0e7",
   "metadata": {},
   "outputs": [],
   "source": []
  }
 ],
 "metadata": {
  "kernelspec": {
   "display_name": "Python 3 (ipykernel)",
   "language": "python",
   "name": "python3"
  },
  "language_info": {
   "codemirror_mode": {
    "name": "ipython",
    "version": 3
   },
   "file_extension": ".py",
   "mimetype": "text/x-python",
   "name": "python",
   "nbconvert_exporter": "python",
   "pygments_lexer": "ipython3",
   "version": "3.13.2"
  }
 },
 "nbformat": 4,
 "nbformat_minor": 5
}
